{
  "cells": [
    {
      "cell_type": "markdown",
      "metadata": {
        "id": "view-in-github",
        "colab_type": "text"
      },
      "source": [
        "<a href=\"https://colab.research.google.com/github/SirTee12/Hamoye_tag_along_project1/blob/main/Hamoye_Introduction_to_python_for_machine_learning_tag_along_project.ipynb\" target=\"_parent\"><img src=\"https://colab.research.google.com/assets/colab-badge.svg\" alt=\"Open In Colab\"/></a>"
      ]
    },
    {
      "cell_type": "markdown",
      "metadata": {
        "id": "t8YEaqDs9gg0"
      },
      "source": [
        "# Tag along project\n",
        "### Hamoye ID : 15e3f34c3c81f000"
      ]
    },
    {
      "cell_type": "code",
      "execution_count": null,
      "metadata": {
        "id": "M4eNNKTD9ghF"
      },
      "outputs": [],
      "source": [
        "import numpy as np\n",
        "import pandas as pd"
      ]
    },
    {
      "cell_type": "markdown",
      "metadata": {
        "id": "gnin971o9ghK"
      },
      "source": [
        "## Question 1"
      ]
    },
    {
      "cell_type": "markdown",
      "metadata": {
        "id": "9HvvggmG9ghM"
      },
      "source": [
        "## Question 2"
      ]
    },
    {
      "cell_type": "code",
      "execution_count": null,
      "metadata": {
        "id": "vczsYb1Q9ghO",
        "outputId": "e1c2d2fa-d863-4eb0-d59c-835d5f4a462b"
      },
      "outputs": [
        {
          "name": "stdout",
          "output_type": "stream",
          "text": [
            "   Age Nationality  Overall\n",
            "1   35    Portugal       94\n",
            "2   33   Argentina       93\n",
            "3   30      Brazil       92\n",
            "   Age Nationality  Overall\n",
            "1   35    Portugal       94\n",
            "2   33   Argentina       93\n",
            "3   30      Brazil       92\n"
          ]
        }
      ],
      "source": [
        "\n",
        "lst = [[35, 'Portugal', 94], [33, 'Argentina', 93], [30 , 'Brazil', 92]]\n",
        "\n",
        "col = ['Age', 'Nationality','Overall']\n",
        "demograph = pd.DataFrame(lst, columns = col, index = [1,2,3])\n",
        "demograph1 = pd.DataFrame(lst, columns = col, index = [i for i in range(1,4)])\n",
        "\n",
        "print(demograph)\n",
        "print(demograph1)"
      ]
    },
    {
      "cell_type": "markdown",
      "metadata": {
        "id": "jCWOnvUb9ghU"
      },
      "source": [
        "## Question 3"
      ]
    },
    {
      "cell_type": "code",
      "execution_count": null,
      "metadata": {
        "id": "1vhlNpxY9ghW",
        "outputId": "2cd75e33-1205-4a2b-fdec-e78179fd6894"
      },
      "outputs": [
        {
          "ename": "TypeError",
          "evalue": "'tuple' object does not support item assignment",
          "output_type": "error",
          "traceback": [
            "\u001b[1;31m---------------------------------------------------------------------------\u001b[0m",
            "\u001b[1;31mTypeError\u001b[0m                                 Traceback (most recent call last)",
            "Input \u001b[1;32mIn [7]\u001b[0m, in \u001b[0;36m<cell line: 3>\u001b[1;34m()\u001b[0m\n\u001b[0;32m      1\u001b[0m my_tuppy \u001b[38;5;241m=\u001b[39m (\u001b[38;5;241m1\u001b[39m,\u001b[38;5;241m2\u001b[39m,\u001b[38;5;241m5\u001b[39m,\u001b[38;5;241m8\u001b[39m)\n\u001b[1;32m----> 3\u001b[0m my_tuppy[\u001b[38;5;241m2\u001b[39m] \u001b[38;5;241m=\u001b[39m \u001b[38;5;241m6\u001b[39m\n",
            "\u001b[1;31mTypeError\u001b[0m: 'tuple' object does not support item assignment"
          ]
        }
      ],
      "source": [
        "my_tuppy = (1,2,5,8)\n",
        "\n",
        "my_tuppy[2] = 6"
      ]
    },
    {
      "cell_type": "markdown",
      "metadata": {
        "id": "Y5S-uPfK9ghZ"
      },
      "source": [
        "## Question 4"
      ]
    },
    {
      "cell_type": "code",
      "execution_count": null,
      "metadata": {
        "id": "ekqeN2Qt9ghe",
        "outputId": "91d52880-8430-4c39-d6ae-9ba8fef957e2"
      },
      "outputs": [
        {
          "data": {
            "text/html": [
              "<div>\n",
              "<style scoped>\n",
              "    .dataframe tbody tr th:only-of-type {\n",
              "        vertical-align: middle;\n",
              "    }\n",
              "\n",
              "    .dataframe tbody tr th {\n",
              "        vertical-align: top;\n",
              "    }\n",
              "\n",
              "    .dataframe thead th {\n",
              "        text-align: right;\n",
              "    }\n",
              "</style>\n",
              "<table border=\"1\" class=\"dataframe\">\n",
              "  <thead>\n",
              "    <tr style=\"text-align: right;\">\n",
              "      <th></th>\n",
              "      <th>Area Code</th>\n",
              "      <th>Area</th>\n",
              "      <th>Item Code</th>\n",
              "      <th>Item</th>\n",
              "      <th>Element Code</th>\n",
              "      <th>Element</th>\n",
              "      <th>Unit</th>\n",
              "      <th>Y2014</th>\n",
              "      <th>Y2015</th>\n",
              "      <th>Y2016</th>\n",
              "      <th>Y2017</th>\n",
              "      <th>Y2018</th>\n",
              "    </tr>\n",
              "  </thead>\n",
              "  <tbody>\n",
              "    <tr>\n",
              "      <th>0</th>\n",
              "      <td>4</td>\n",
              "      <td>Algeria</td>\n",
              "      <td>2501</td>\n",
              "      <td>Population</td>\n",
              "      <td>511</td>\n",
              "      <td>Total Population - Both sexes</td>\n",
              "      <td>1000 persons</td>\n",
              "      <td>38924.00</td>\n",
              "      <td>39728.00</td>\n",
              "      <td>40551.00</td>\n",
              "      <td>41389.00</td>\n",
              "      <td>42228.00</td>\n",
              "    </tr>\n",
              "    <tr>\n",
              "      <th>1</th>\n",
              "      <td>4</td>\n",
              "      <td>Algeria</td>\n",
              "      <td>2501</td>\n",
              "      <td>Population</td>\n",
              "      <td>5301</td>\n",
              "      <td>Domestic supply quantity</td>\n",
              "      <td>1000 tonnes</td>\n",
              "      <td>0.00</td>\n",
              "      <td>0.00</td>\n",
              "      <td>0.00</td>\n",
              "      <td>0.00</td>\n",
              "      <td>0.00</td>\n",
              "    </tr>\n",
              "    <tr>\n",
              "      <th>2</th>\n",
              "      <td>4</td>\n",
              "      <td>Algeria</td>\n",
              "      <td>2901</td>\n",
              "      <td>Grand Total</td>\n",
              "      <td>664</td>\n",
              "      <td>Food supply (kcal/capita/day)</td>\n",
              "      <td>kcal/capita/day</td>\n",
              "      <td>3377.00</td>\n",
              "      <td>3379.00</td>\n",
              "      <td>3372.00</td>\n",
              "      <td>3341.00</td>\n",
              "      <td>3322.00</td>\n",
              "    </tr>\n",
              "    <tr>\n",
              "      <th>3</th>\n",
              "      <td>4</td>\n",
              "      <td>Algeria</td>\n",
              "      <td>2901</td>\n",
              "      <td>Grand Total</td>\n",
              "      <td>674</td>\n",
              "      <td>Protein supply quantity (g/capita/day)</td>\n",
              "      <td>g/capita/day</td>\n",
              "      <td>94.90</td>\n",
              "      <td>94.35</td>\n",
              "      <td>94.72</td>\n",
              "      <td>92.82</td>\n",
              "      <td>91.83</td>\n",
              "    </tr>\n",
              "    <tr>\n",
              "      <th>4</th>\n",
              "      <td>4</td>\n",
              "      <td>Algeria</td>\n",
              "      <td>2901</td>\n",
              "      <td>Grand Total</td>\n",
              "      <td>684</td>\n",
              "      <td>Fat supply quantity (g/capita/day)</td>\n",
              "      <td>g/capita/day</td>\n",
              "      <td>80.06</td>\n",
              "      <td>79.36</td>\n",
              "      <td>77.40</td>\n",
              "      <td>80.19</td>\n",
              "      <td>77.28</td>\n",
              "    </tr>\n",
              "  </tbody>\n",
              "</table>\n",
              "</div>"
            ],
            "text/plain": [
              "   Area Code     Area  Item Code         Item  Element Code  \\\n",
              "0          4  Algeria       2501   Population           511   \n",
              "1          4  Algeria       2501   Population          5301   \n",
              "2          4  Algeria       2901  Grand Total           664   \n",
              "3          4  Algeria       2901  Grand Total           674   \n",
              "4          4  Algeria       2901  Grand Total           684   \n",
              "\n",
              "                                  Element             Unit     Y2014  \\\n",
              "0           Total Population - Both sexes     1000 persons  38924.00   \n",
              "1                Domestic supply quantity      1000 tonnes      0.00   \n",
              "2           Food supply (kcal/capita/day)  kcal/capita/day   3377.00   \n",
              "3  Protein supply quantity (g/capita/day)     g/capita/day     94.90   \n",
              "4      Fat supply quantity (g/capita/day)     g/capita/day     80.06   \n",
              "\n",
              "      Y2015     Y2016     Y2017     Y2018  \n",
              "0  39728.00  40551.00  41389.00  42228.00  \n",
              "1      0.00      0.00      0.00      0.00  \n",
              "2   3379.00   3372.00   3341.00   3322.00  \n",
              "3     94.35     94.72     92.82     91.83  \n",
              "4     79.36     77.40     80.19     77.28  "
            ]
          },
          "execution_count": 16,
          "metadata": {},
          "output_type": "execute_result"
        }
      ],
      "source": [
        "food_bal = pd.read_csv('FoodBalanceSheets_E_Africa_NOFLAG.csv', encoding= 'Latin-1')\n",
        "food_bal.head()\n"
      ]
    },
    {
      "cell_type": "code",
      "execution_count": null,
      "metadata": {
        "id": "GJ6tPrUD9ghi",
        "outputId": "ce7aaca4-1094-4b3d-8e1a-ad3bd0a4223e"
      },
      "outputs": [
        {
          "data": {
            "text/plain": [
              "49"
            ]
          },
          "execution_count": 64,
          "metadata": {},
          "output_type": "execute_result"
        }
      ],
      "source": [
        "food_bal.Area.nunique()"
      ]
    },
    {
      "cell_type": "markdown",
      "metadata": {
        "id": "OZNJT_tE9ghk"
      },
      "source": [
        "## Question 6"
      ]
    },
    {
      "cell_type": "code",
      "execution_count": null,
      "metadata": {
        "id": "dA3rCYDM9ghm",
        "outputId": "eac9f8f2-892b-4e3f-b6e6-4e49a53c6d63"
      },
      "outputs": [
        {
          "data": {
            "text/html": [
              "<div>\n",
              "<style scoped>\n",
              "    .dataframe tbody tr th:only-of-type {\n",
              "        vertical-align: middle;\n",
              "    }\n",
              "\n",
              "    .dataframe tbody tr th {\n",
              "        vertical-align: top;\n",
              "    }\n",
              "\n",
              "    .dataframe thead th {\n",
              "        text-align: right;\n",
              "    }\n",
              "</style>\n",
              "<table border=\"1\" class=\"dataframe\">\n",
              "  <thead>\n",
              "    <tr style=\"text-align: right;\">\n",
              "      <th></th>\n",
              "      <th>Area</th>\n",
              "      <th>Y2017</th>\n",
              "    </tr>\n",
              "  </thead>\n",
              "  <tbody>\n",
              "    <tr>\n",
              "      <th>34</th>\n",
              "      <td>Nigeria</td>\n",
              "      <td>1483268.23</td>\n",
              "    </tr>\n",
              "    <tr>\n",
              "      <th>13</th>\n",
              "      <td>Egypt</td>\n",
              "      <td>866379.92</td>\n",
              "    </tr>\n",
              "    <tr>\n",
              "      <th>40</th>\n",
              "      <td>South Africa</td>\n",
              "      <td>517590.54</td>\n",
              "    </tr>\n",
              "    <tr>\n",
              "      <th>15</th>\n",
              "      <td>Ethiopia</td>\n",
              "      <td>448683.76</td>\n",
              "    </tr>\n",
              "    <tr>\n",
              "      <th>30</th>\n",
              "      <td>Morocco</td>\n",
              "      <td>388495.36</td>\n",
              "    </tr>\n",
              "  </tbody>\n",
              "</table>\n",
              "</div>"
            ],
            "text/plain": [
              "            Area       Y2017\n",
              "34       Nigeria  1483268.23\n",
              "13         Egypt   866379.92\n",
              "40  South Africa   517590.54\n",
              "15      Ethiopia   448683.76\n",
              "30       Morocco   388495.36"
            ]
          },
          "execution_count": 25,
          "metadata": {},
          "output_type": "execute_result"
        }
      ],
      "source": [
        "area_sum = food_bal.groupby('Area')['Y2017'].sum().reset_index()\n",
        "area_sum = area_sum.sort_values('Y2017', ascending = False)\n",
        "area_sum.head()"
      ]
    },
    {
      "cell_type": "markdown",
      "metadata": {
        "id": "ngiAhl7t9gho"
      },
      "source": [
        "## Question 7\n"
      ]
    },
    {
      "cell_type": "code",
      "execution_count": null,
      "metadata": {
        "id": "MZfEZxh09ghq",
        "outputId": "a5a56c53-314c-430e-b0da-786a842eeb3d"
      },
      "outputs": [
        {
          "name": "stdout",
          "output_type": "stream",
          "text": [
            "number of missing data is 1589\n",
            "percentage of missing data is 2.6073544131401474\n"
          ]
        }
      ],
      "source": [
        "print('number of missing data is {}'.format(food_bal.Y2014.isna().sum()))\n",
        "print('percentage of missing data is {}'.format(food_bal.Y2014.isna().sum()/food_bal.shape[0] * 100.0))\n"
      ]
    },
    {
      "cell_type": "markdown",
      "metadata": {
        "id": "INAwRxI39ghs"
      },
      "source": [
        "## Question 9"
      ]
    },
    {
      "cell_type": "code",
      "execution_count": null,
      "metadata": {
        "id": "zZXkes6x9ghu",
        "outputId": "4f5bfbd8-de37-4a36-aff7-62daf44608a5"
      },
      "outputs": [
        {
          "data": {
            "text/html": [
              "<div>\n",
              "<style scoped>\n",
              "    .dataframe tbody tr th:only-of-type {\n",
              "        vertical-align: middle;\n",
              "    }\n",
              "\n",
              "    .dataframe tbody tr th {\n",
              "        vertical-align: top;\n",
              "    }\n",
              "\n",
              "    .dataframe thead th {\n",
              "        text-align: right;\n",
              "    }\n",
              "</style>\n",
              "<table border=\"1\" class=\"dataframe\">\n",
              "  <thead>\n",
              "    <tr style=\"text-align: right;\">\n",
              "      <th></th>\n",
              "      <th>Element</th>\n",
              "      <th>Y2014</th>\n",
              "      <th>Y2015</th>\n",
              "      <th>Y2016</th>\n",
              "      <th>Y2017</th>\n",
              "      <th>Y2018</th>\n",
              "    </tr>\n",
              "  </thead>\n",
              "  <tbody>\n",
              "    <tr>\n",
              "      <th>0</th>\n",
              "      <td>Domestic supply quantity</td>\n",
              "      <td>1996716.35</td>\n",
              "      <td>2021493.55</td>\n",
              "      <td>2044842.70</td>\n",
              "      <td>2088198.10</td>\n",
              "      <td>2161192.10</td>\n",
              "    </tr>\n",
              "    <tr>\n",
              "      <th>11</th>\n",
              "      <td>Production</td>\n",
              "      <td>1931287.75</td>\n",
              "      <td>1947019.39</td>\n",
              "      <td>1943537.15</td>\n",
              "      <td>2030056.89</td>\n",
              "      <td>2075072.89</td>\n",
              "    </tr>\n",
              "    <tr>\n",
              "      <th>4</th>\n",
              "      <td>Food</td>\n",
              "      <td>1212332.49</td>\n",
              "      <td>1232361.10</td>\n",
              "      <td>1247022.17</td>\n",
              "      <td>1258888.28</td>\n",
              "      <td>1303841.28</td>\n",
              "    </tr>\n",
              "    <tr>\n",
              "      <th>16</th>\n",
              "      <td>Total Population - Both sexes</td>\n",
              "      <td>1031585.00</td>\n",
              "      <td>1058081.00</td>\n",
              "      <td>1085107.00</td>\n",
              "      <td>1112641.00</td>\n",
              "      <td>1140605.00</td>\n",
              "    </tr>\n",
              "    <tr>\n",
              "      <th>5</th>\n",
              "      <td>Food supply (kcal/capita/day)</td>\n",
              "      <td>454257.00</td>\n",
              "      <td>453383.00</td>\n",
              "      <td>451810.00</td>\n",
              "      <td>454681.00</td>\n",
              "      <td>455261.00</td>\n",
              "    </tr>\n",
              "    <tr>\n",
              "      <th>10</th>\n",
              "      <td>Processing</td>\n",
              "      <td>282923.00</td>\n",
              "      <td>287929.00</td>\n",
              "      <td>280631.00</td>\n",
              "      <td>292836.00</td>\n",
              "      <td>308429.00</td>\n",
              "    </tr>\n",
              "    <tr>\n",
              "      <th>7</th>\n",
              "      <td>Import Quantity</td>\n",
              "      <td>274144.48</td>\n",
              "      <td>267018.46</td>\n",
              "      <td>286582.78</td>\n",
              "      <td>294559.09</td>\n",
              "      <td>287997.09</td>\n",
              "    </tr>\n",
              "    <tr>\n",
              "      <th>3</th>\n",
              "      <td>Feed</td>\n",
              "      <td>216927.89</td>\n",
              "      <td>225050.22</td>\n",
              "      <td>228958.65</td>\n",
              "      <td>223705.68</td>\n",
              "      <td>233489.68</td>\n",
              "    </tr>\n",
              "    <tr>\n",
              "      <th>8</th>\n",
              "      <td>Losses</td>\n",
              "      <td>153223.00</td>\n",
              "      <td>155439.00</td>\n",
              "      <td>157787.00</td>\n",
              "      <td>160614.00</td>\n",
              "      <td>163902.00</td>\n",
              "    </tr>\n",
              "    <tr>\n",
              "      <th>1</th>\n",
              "      <td>Export Quantity</td>\n",
              "      <td>150020.64</td>\n",
              "      <td>157614.47</td>\n",
              "      <td>151920.46</td>\n",
              "      <td>182338.80</td>\n",
              "      <td>181594.80</td>\n",
              "    </tr>\n",
              "    <tr>\n",
              "      <th>9</th>\n",
              "      <td>Other uses (non-food)</td>\n",
              "      <td>78718.13</td>\n",
              "      <td>66254.41</td>\n",
              "      <td>69563.68</td>\n",
              "      <td>91645.97</td>\n",
              "      <td>91300.97</td>\n",
              "    </tr>\n",
              "    <tr>\n",
              "      <th>15</th>\n",
              "      <td>Stock Variation</td>\n",
              "      <td>58749.83</td>\n",
              "      <td>34910.99</td>\n",
              "      <td>33140.12</td>\n",
              "      <td>54316.91</td>\n",
              "      <td>20577.91</td>\n",
              "    </tr>\n",
              "    <tr>\n",
              "      <th>6</th>\n",
              "      <td>Food supply quantity (kg/capita/yr)</td>\n",
              "      <td>49650.63</td>\n",
              "      <td>49345.13</td>\n",
              "      <td>48985.28</td>\n",
              "      <td>48690.04</td>\n",
              "      <td>49056.85</td>\n",
              "    </tr>\n",
              "    <tr>\n",
              "      <th>13</th>\n",
              "      <td>Residuals</td>\n",
              "      <td>30149.00</td>\n",
              "      <td>30045.00</td>\n",
              "      <td>37224.00</td>\n",
              "      <td>35500.00</td>\n",
              "      <td>34864.00</td>\n",
              "    </tr>\n",
              "    <tr>\n",
              "      <th>14</th>\n",
              "      <td>Seed</td>\n",
              "      <td>21922.92</td>\n",
              "      <td>23976.82</td>\n",
              "      <td>23389.20</td>\n",
              "      <td>24870.14</td>\n",
              "      <td>25263.14</td>\n",
              "    </tr>\n",
              "    <tr>\n",
              "      <th>12</th>\n",
              "      <td>Protein supply quantity (g/capita/day)</td>\n",
              "      <td>11836.46</td>\n",
              "      <td>11833.95</td>\n",
              "      <td>11779.69</td>\n",
              "      <td>11842.45</td>\n",
              "      <td>11833.56</td>\n",
              "    </tr>\n",
              "    <tr>\n",
              "      <th>2</th>\n",
              "      <td>Fat supply quantity (g/capita/day)</td>\n",
              "      <td>10225.56</td>\n",
              "      <td>10235.74</td>\n",
              "      <td>10102.77</td>\n",
              "      <td>10253.84</td>\n",
              "      <td>10258.69</td>\n",
              "    </tr>\n",
              "    <tr>\n",
              "      <th>17</th>\n",
              "      <td>Tourist consumption</td>\n",
              "      <td>416.00</td>\n",
              "      <td>349.00</td>\n",
              "      <td>89.00</td>\n",
              "      <td>91.00</td>\n",
              "      <td>90.00</td>\n",
              "    </tr>\n",
              "  </tbody>\n",
              "</table>\n",
              "</div>"
            ],
            "text/plain": [
              "                                   Element       Y2014       Y2015  \\\n",
              "0                 Domestic supply quantity  1996716.35  2021493.55   \n",
              "11                              Production  1931287.75  1947019.39   \n",
              "4                                     Food  1212332.49  1232361.10   \n",
              "16           Total Population - Both sexes  1031585.00  1058081.00   \n",
              "5            Food supply (kcal/capita/day)   454257.00   453383.00   \n",
              "10                              Processing   282923.00   287929.00   \n",
              "7                          Import Quantity   274144.48   267018.46   \n",
              "3                                     Feed   216927.89   225050.22   \n",
              "8                                   Losses   153223.00   155439.00   \n",
              "1                          Export Quantity   150020.64   157614.47   \n",
              "9                    Other uses (non-food)    78718.13    66254.41   \n",
              "15                         Stock Variation    58749.83    34910.99   \n",
              "6      Food supply quantity (kg/capita/yr)    49650.63    49345.13   \n",
              "13                               Residuals    30149.00    30045.00   \n",
              "14                                    Seed    21922.92    23976.82   \n",
              "12  Protein supply quantity (g/capita/day)    11836.46    11833.95   \n",
              "2       Fat supply quantity (g/capita/day)    10225.56    10235.74   \n",
              "17                     Tourist consumption      416.00      349.00   \n",
              "\n",
              "         Y2016       Y2017       Y2018  \n",
              "0   2044842.70  2088198.10  2161192.10  \n",
              "11  1943537.15  2030056.89  2075072.89  \n",
              "4   1247022.17  1258888.28  1303841.28  \n",
              "16  1085107.00  1112641.00  1140605.00  \n",
              "5    451810.00   454681.00   455261.00  \n",
              "10   280631.00   292836.00   308429.00  \n",
              "7    286582.78   294559.09   287997.09  \n",
              "3    228958.65   223705.68   233489.68  \n",
              "8    157787.00   160614.00   163902.00  \n",
              "1    151920.46   182338.80   181594.80  \n",
              "9     69563.68    91645.97    91300.97  \n",
              "15    33140.12    54316.91    20577.91  \n",
              "6     48985.28    48690.04    49056.85  \n",
              "13    37224.00    35500.00    34864.00  \n",
              "14    23389.20    24870.14    25263.14  \n",
              "12    11779.69    11842.45    11833.56  \n",
              "2     10102.77    10253.84    10258.69  \n",
              "17       89.00       91.00       90.00  "
            ]
          },
          "execution_count": 73,
          "metadata": {},
          "output_type": "execute_result"
        }
      ],
      "source": [
        "stock_var = food_bal.groupby('Element')[['Y2014', 'Y2015', 'Y2016', 'Y2017', 'Y2018']].sum().reset_index()\n",
        "stock_var = stock_var.sort_values(['Y2014', 'Y2015', 'Y2016', 'Y2017', 'Y2018'], ascending = False)\n",
        "stock_var"
      ]
    },
    {
      "cell_type": "markdown",
      "metadata": {
        "id": "zBUaDptp9ghv"
      },
      "source": [
        "## Question 10"
      ]
    },
    {
      "cell_type": "code",
      "execution_count": null,
      "metadata": {
        "id": "Gu662yp59ghx",
        "outputId": "c09945a1-61fc-4b37-a515-a58e5f64fd3e"
      },
      "outputs": [
        {
          "data": {
            "text/html": [
              "<div>\n",
              "<style scoped>\n",
              "    .dataframe tbody tr th:only-of-type {\n",
              "        vertical-align: middle;\n",
              "    }\n",
              "\n",
              "    .dataframe tbody tr th {\n",
              "        vertical-align: top;\n",
              "    }\n",
              "\n",
              "    .dataframe thead th {\n",
              "        text-align: right;\n",
              "    }\n",
              "</style>\n",
              "<table border=\"1\" class=\"dataframe\">\n",
              "  <thead>\n",
              "    <tr style=\"text-align: right;\">\n",
              "      <th></th>\n",
              "      <th>Element</th>\n",
              "      <th>Y2015</th>\n",
              "    </tr>\n",
              "  </thead>\n",
              "  <tbody>\n",
              "    <tr>\n",
              "      <th>12</th>\n",
              "      <td>Protein supply quantity (g/capita/day)</td>\n",
              "      <td>11833.95</td>\n",
              "    </tr>\n",
              "  </tbody>\n",
              "</table>\n",
              "</div>"
            ],
            "text/plain": [
              "                                   Element     Y2015\n",
              "12  Protein supply quantity (g/capita/day)  11833.95"
            ]
          },
          "execution_count": 72,
          "metadata": {},
          "output_type": "execute_result"
        }
      ],
      "source": [
        "area_sum = food_bal.groupby('Element')['Y2015'].sum().reset_index()\n",
        "area_sum[area_sum['Element'] == 'Protein supply quantity (g/capita/day)']\n"
      ]
    },
    {
      "cell_type": "markdown",
      "metadata": {
        "id": "MyOGi8719ghy"
      },
      "source": [
        "## Question 11"
      ]
    },
    {
      "cell_type": "code",
      "execution_count": null,
      "metadata": {
        "id": "1c9gn-819gh0",
        "outputId": "d5f6a9e1-3b79-4090-edbe-070a351c8e6f"
      },
      "outputs": [
        {
          "data": {
            "text/html": [
              "<div>\n",
              "<style scoped>\n",
              "    .dataframe tbody tr th:only-of-type {\n",
              "        vertical-align: middle;\n",
              "    }\n",
              "\n",
              "    .dataframe tbody tr th {\n",
              "        vertical-align: top;\n",
              "    }\n",
              "\n",
              "    .dataframe thead th {\n",
              "        text-align: right;\n",
              "    }\n",
              "</style>\n",
              "<table border=\"1\" class=\"dataframe\">\n",
              "  <thead>\n",
              "    <tr style=\"text-align: right;\">\n",
              "      <th></th>\n",
              "      <th>Area</th>\n",
              "      <th>Y2017</th>\n",
              "    </tr>\n",
              "  </thead>\n",
              "  <tbody>\n",
              "    <tr>\n",
              "      <th>21</th>\n",
              "      <td>Guinea-Bissau</td>\n",
              "      <td>19102.77</td>\n",
              "    </tr>\n",
              "    <tr>\n",
              "      <th>5</th>\n",
              "      <td>Cabo Verde</td>\n",
              "      <td>14650.74</td>\n",
              "    </tr>\n",
              "    <tr>\n",
              "      <th>36</th>\n",
              "      <td>Sao Tome and Principe</td>\n",
              "      <td>12662.63</td>\n",
              "    </tr>\n",
              "    <tr>\n",
              "      <th>38</th>\n",
              "      <td>Seychelles</td>\n",
              "      <td>442.34</td>\n",
              "    </tr>\n",
              "    <tr>\n",
              "      <th>9</th>\n",
              "      <td>Comoros</td>\n",
              "      <td>59.84</td>\n",
              "    </tr>\n",
              "    <tr>\n",
              "      <th>42</th>\n",
              "      <td>Sudan (former)</td>\n",
              "      <td>0.00</td>\n",
              "    </tr>\n",
              "    <tr>\n",
              "      <th>16</th>\n",
              "      <td>Ethiopia PDR</td>\n",
              "      <td>0.00</td>\n",
              "    </tr>\n",
              "  </tbody>\n",
              "</table>\n",
              "</div>"
            ],
            "text/plain": [
              "                     Area     Y2017\n",
              "21          Guinea-Bissau  19102.77\n",
              "5              Cabo Verde  14650.74\n",
              "36  Sao Tome and Principe  12662.63\n",
              "38             Seychelles    442.34\n",
              "9                 Comoros     59.84\n",
              "42         Sudan (former)      0.00\n",
              "16           Ethiopia PDR      0.00"
            ]
          },
          "execution_count": 45,
          "metadata": {},
          "output_type": "execute_result"
        }
      ],
      "source": [
        "area_sum = food_bal.groupby('Area')['Y2017'].sum().reset_index()\n",
        "area_sum = area_sum.sort_values('Y2017', ascending = False)\n",
        "area_sum.tail(7)"
      ]
    },
    {
      "cell_type": "markdown",
      "metadata": {
        "id": "cjZ9wat79gh2"
      },
      "source": [
        "## Question 12"
      ]
    },
    {
      "cell_type": "code",
      "execution_count": null,
      "metadata": {
        "id": "QYx8UW0y9gh3",
        "outputId": "684a46e4-ec88-4ef5-a7ad-5c3044b2acca"
      },
      "outputs": [
        {
          "data": {
            "text/plain": [
              "array([[89, 63],\n",
              "       [92, 48]])"
            ]
          },
          "execution_count": 74,
          "metadata": {},
          "output_type": "execute_result"
        }
      ],
      "source": [
        "\n",
        "array  = np.array([[94, 89, 63],\n",
        "\n",
        "             [93, 92, 48],\n",
        "\n",
        "             [92, 94, 56]])\n",
        "array[:2, 1:]"
      ]
    },
    {
      "cell_type": "markdown",
      "metadata": {
        "id": "ibtnJb2C9gh5"
      },
      "source": [
        "## Question 14\n"
      ]
    },
    {
      "cell_type": "code",
      "execution_count": null,
      "metadata": {
        "id": "7QIu2b9t9gh6",
        "outputId": "c4539723-fd25-46f2-ba07-5cd4bf0f901d"
      },
      "outputs": [
        {
          "data": {
            "text/html": [
              "<div>\n",
              "<style scoped>\n",
              "    .dataframe tbody tr th:only-of-type {\n",
              "        vertical-align: middle;\n",
              "    }\n",
              "\n",
              "    .dataframe tbody tr th {\n",
              "        vertical-align: top;\n",
              "    }\n",
              "\n",
              "    .dataframe thead th {\n",
              "        text-align: right;\n",
              "    }\n",
              "</style>\n",
              "<table border=\"1\" class=\"dataframe\">\n",
              "  <thead>\n",
              "    <tr style=\"text-align: right;\">\n",
              "      <th></th>\n",
              "      <th>Element</th>\n",
              "      <th>Y2017</th>\n",
              "    </tr>\n",
              "  </thead>\n",
              "  <tbody>\n",
              "    <tr>\n",
              "      <th>10</th>\n",
              "      <td>Processing</td>\n",
              "      <td>292836.0</td>\n",
              "    </tr>\n",
              "  </tbody>\n",
              "</table>\n",
              "</div>"
            ],
            "text/plain": [
              "       Element     Y2017\n",
              "10  Processing  292836.0"
            ]
          },
          "execution_count": 50,
          "metadata": {},
          "output_type": "execute_result"
        }
      ],
      "source": [
        "process_sum = food_bal.groupby('Element')['Y2017'].sum().reset_index()\n",
        "process_sum[process_sum['Element']=='Processing']"
      ]
    },
    {
      "cell_type": "markdown",
      "metadata": {
        "id": "u79l4pyC9gh_"
      },
      "source": [
        "## Question 15"
      ]
    },
    {
      "cell_type": "code",
      "execution_count": null,
      "metadata": {
        "id": "gbsfCkIn9gh_"
      },
      "outputs": [],
      "source": [
        "df.shape"
      ]
    },
    {
      "cell_type": "markdown",
      "metadata": {
        "id": "1PXS9Ypz9giA"
      },
      "source": [
        "## Question 16"
      ]
    },
    {
      "cell_type": "code",
      "execution_count": null,
      "metadata": {
        "id": "dv_veUPd9giB",
        "outputId": "81457b72-091c-47de-b58c-bc1077174f78"
      },
      "outputs": [
        {
          "name": "stdout",
          "output_type": "stream",
          "text": [
            "mean is 140.92\n",
            "std is 1671.86\n"
          ]
        }
      ],
      "source": [
        "print('mean is {}'.format(np.round(food_bal.Y2017.mean(), 2)))\n",
        "print('std is {}'.format(np.round(food_bal.Y2017.std(), 2)))"
      ]
    },
    {
      "cell_type": "markdown",
      "metadata": {
        "id": "Woy8o2uv9giD"
      },
      "source": [
        "## Question 17"
      ]
    },
    {
      "cell_type": "code",
      "execution_count": null,
      "metadata": {
        "id": "V-L4v_as9giD",
        "outputId": "334b512b-9f99-4246-f47f-a15afa8bfc12"
      },
      "outputs": [
        {
          "name": "stdout",
          "output_type": "stream",
          "text": [
            "Y2014: 0.024456819495222167\n",
            "Y2015: 0.02388919930164121\n",
            "Y2016: 0.023443997584962413\n",
            "Y2017: 0.024254007760045458\n",
            "Y2018: 0.024278571953519328\n",
            "minimum correlation is 0.023443997584962413 for \n"
          ]
        }
      ],
      "source": [
        "corr_year = []\n",
        "for col in food_bal.columns[7:]:\n",
        "    corr=  food_bal['Element Code'].corr(food_bal[col])\n",
        "    corr_year.append(corr)\n",
        "    print(col + ': ' + str(corr))\n",
        "print('minimum correlation is {} for '.format(np.min(corr_year)))"
      ]
    },
    {
      "cell_type": "markdown",
      "metadata": {
        "id": "ehoUpWSv9giF"
      },
      "source": [
        "## Qustion 18"
      ]
    },
    {
      "cell_type": "code",
      "execution_count": null,
      "metadata": {
        "id": "bK5OgOTz9giG",
        "outputId": "3e358a7f-515c-499a-fd1f-14deb5c4824c"
      },
      "outputs": [
        {
          "data": {
            "text/plain": [
              "'e'"
            ]
          },
          "execution_count": 10,
          "metadata": {},
          "output_type": "execute_result"
        }
      ],
      "source": [
        "S = [['him', 'sell'], [90, 28, 43]]\n",
        "\n",
        "S[0][1][1]"
      ]
    },
    {
      "cell_type": "markdown",
      "metadata": {
        "id": "zLw6VxRd9giH"
      },
      "source": [
        "## Question 19"
      ]
    },
    {
      "cell_type": "code",
      "execution_count": null,
      "metadata": {
        "id": "-qsCGHl09giI",
        "outputId": "b9c30598-f8df-4116-96dd-ddb2a716452c"
      },
      "outputs": [
        {
          "name": "stderr",
          "output_type": "stream",
          "text": [
            "C:\\Users\\pc\\AppData\\Local\\Temp\\ipykernel_4604\\1397353154.py:1: FutureWarning: Indexing with multiple keys (implicitly converted to a tuple of keys) will be deprecated, use a list instead.\n",
            "  sum_prod = food_bal.groupby('Item')['Y2014', 'Y2015', 'Y2016', 'Y2017', 'Y2018'].sum().reset_index()\n"
          ]
        },
        {
          "data": {
            "text/html": [
              "<div>\n",
              "<style scoped>\n",
              "    .dataframe tbody tr th:only-of-type {\n",
              "        vertical-align: middle;\n",
              "    }\n",
              "\n",
              "    .dataframe tbody tr th {\n",
              "        vertical-align: top;\n",
              "    }\n",
              "\n",
              "    .dataframe thead th {\n",
              "        text-align: right;\n",
              "    }\n",
              "</style>\n",
              "<table border=\"1\" class=\"dataframe\">\n",
              "  <thead>\n",
              "    <tr style=\"text-align: right;\">\n",
              "      <th></th>\n",
              "      <th>Item</th>\n",
              "      <th>Y2014</th>\n",
              "      <th>Y2015</th>\n",
              "      <th>Y2016</th>\n",
              "      <th>Y2017</th>\n",
              "      <th>Y2018</th>\n",
              "    </tr>\n",
              "  </thead>\n",
              "  <tbody>\n",
              "    <tr>\n",
              "      <th>117</th>\n",
              "      <td>Wine</td>\n",
              "      <td>4497.36</td>\n",
              "      <td>4251.81</td>\n",
              "      <td>3872.09</td>\n",
              "      <td>4178.02</td>\n",
              "      <td>4039.32</td>\n",
              "    </tr>\n",
              "  </tbody>\n",
              "</table>\n",
              "</div>"
            ],
            "text/plain": [
              "     Item    Y2014    Y2015    Y2016    Y2017    Y2018\n",
              "117  Wine  4497.36  4251.81  3872.09  4178.02  4039.32"
            ]
          },
          "execution_count": 55,
          "metadata": {},
          "output_type": "execute_result"
        }
      ],
      "source": [
        "sum_prod = food_bal.groupby('Item')['Y2014', 'Y2015', 'Y2016', 'Y2017', 'Y2018'].sum().reset_index()\n",
        "sum_prod[sum_prod['Item']=='Wine']"
      ]
    },
    {
      "cell_type": "markdown",
      "metadata": {
        "id": "mukRchfJ9giJ"
      },
      "source": [
        "## Question 20\n"
      ]
    },
    {
      "cell_type": "code",
      "execution_count": null,
      "metadata": {
        "id": "7HTi32kx9giK",
        "outputId": "2f1c422f-cba6-44e0-aec8-312184eceb82"
      },
      "outputs": [
        {
          "data": {
            "text/plain": [
              "8"
            ]
          },
          "execution_count": 9,
          "metadata": {},
          "output_type": "execute_result"
        }
      ],
      "source": [
        "y = [(2, 4), (7, 8), (1, 5, 9)]\n",
        "x = y[1][1]\n",
        "x "
      ]
    },
    {
      "cell_type": "code",
      "execution_count": null,
      "metadata": {
        "id": "ceG0ePNA9giL"
      },
      "outputs": [],
      "source": []
    }
  ],
  "metadata": {
    "kernelspec": {
      "display_name": "Python 3 (ipykernel)",
      "language": "python",
      "name": "python3"
    },
    "language_info": {
      "codemirror_mode": {
        "name": "ipython",
        "version": 3
      },
      "file_extension": ".py",
      "mimetype": "text/x-python",
      "name": "python",
      "nbconvert_exporter": "python",
      "pygments_lexer": "ipython3",
      "version": "3.9.12"
    },
    "colab": {
      "provenance": [],
      "include_colab_link": true
    }
  },
  "nbformat": 4,
  "nbformat_minor": 0
}